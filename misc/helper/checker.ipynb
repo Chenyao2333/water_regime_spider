{
 "cells": [
  {
   "cell_type": "code",
   "execution_count": 3,
   "metadata": {
    "collapsed": false
   },
   "outputs": [],
   "source": [
    "sites = {}\n",
    "with open(\"site_position.txt\") as f:\n",
    "    for line in f.readlines():\n",
    "        river_basins, province, river, site_name = line.split()\n",
    "        sites[site_name] = (river_basins, province, river, site_name)\n",
    "    \n",
    "with open(\"check.txt\", \"w\") as f:\n",
    "    for key, val in sites.items():\n",
    "        f.write(\"%s %s %s %s\\n\" % (val[0], val[1], val[2], val[3]))"
   ]
  },
  {
   "cell_type": "code",
   "execution_count": null,
   "metadata": {
    "collapsed": true
   },
   "outputs": [],
   "source": []
  }
 ],
 "metadata": {
  "kernelspec": {
   "display_name": "Python 2",
   "language": "python",
   "name": "python2"
  },
  "language_info": {
   "codemirror_mode": {
    "name": "ipython",
    "version": 2
   },
   "file_extension": ".py",
   "mimetype": "text/x-python",
   "name": "python",
   "nbconvert_exporter": "python",
   "pygments_lexer": "ipython2",
   "version": "2.7.11"
  }
 },
 "nbformat": 4,
 "nbformat_minor": 0
}
