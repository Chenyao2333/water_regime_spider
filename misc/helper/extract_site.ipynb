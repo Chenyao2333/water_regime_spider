{
 "cells": [
  {
   "cell_type": "code",
   "execution_count": 6,
   "metadata": {
    "collapsed": false
   },
   "outputs": [
    {
     "name": "stdout",
     "output_type": "stream",
     "text": [
      "马村 40605500\n",
      "黄庄 40106850\n",
      "高坝洲 61004810\n",
      "黄桥 62711800\n",
      "孤山 61907500\n",
      "南阳 62011400\n",
      "新田 62310250\n",
      "马口 81300020\n",
      "黄桥 62711800\n",
      "龙山 71411180\n",
      "马口 81300020\n",
      "合江 81410000\n"
     ]
    }
   ],
   "source": [
    "import re\n",
    "\n",
    "id_m = re.compile(ur\"onSwOver\\('(?P<site_id>\\d+)','(?P<site_name>[^']+)\")\n",
    "\n",
    "sites_id = {}\n",
    "sites_list = {}\n",
    "\n",
    "with open(\"raw_site_info.txt\") as f:\n",
    "    for line in f.readlines():\n",
    "        m = id_m.search(line)\n",
    "        if m:\n",
    "            sites_id[m.group(\"site_name\")] = m.group(\"site_id\")\n",
    "\n",
    "df = open(\"sites.txt\", \"w\")\n",
    "            \n",
    "with open(\"site_position.txt\") as f:\n",
    "    for line in f.readlines():\n",
    "        river_basins, province, river, site_name = line.split()\n",
    "        if site_name not in sites_id:\n",
    "            continue\n",
    "            \n",
    "        site_id = sites_id[site_name]\n",
    "        if site_name in sites_list:\n",
    "            print site_name, site_id\n",
    "        else:\n",
    "            df.write(\"%s %s %s %s %s\\n\" % (river_basins, province, river, site_name, site_id))\n",
    "            sites_list[site_name] = [river_basins, province, river, site_name, site_id]\n",
    "\n",
    "df.close()"
   ]
  },
  {
   "cell_type": "code",
   "execution_count": 9,
   "metadata": {
    "collapsed": false
   },
   "outputs": [
    {
     "data": {
      "text/plain": [
       "881"
      ]
     },
     "execution_count": 9,
     "metadata": {},
     "output_type": "execute_result"
    }
   ],
   "source": [
    "len(sites_list)"
   ]
  },
  {
   "cell_type": "code",
   "execution_count": 10,
   "metadata": {
    "collapsed": false
   },
   "outputs": [],
   "source": [
    "with open(\"sites_new.txt\", \"w\") as f:\n",
    "    for key, val in sites_list.items():\n",
    "        f.write(\"%s %s %s %s %s\\n\" % (val[0], val[1], val[2], val[3], val[4]))"
   ]
  },
  {
   "cell_type": "code",
   "execution_count": null,
   "metadata": {
    "collapsed": true
   },
   "outputs": [],
   "source": []
  }
 ],
 "metadata": {
  "kernelspec": {
   "display_name": "Python 2",
   "language": "python",
   "name": "python2"
  },
  "language_info": {
   "codemirror_mode": {
    "name": "ipython",
    "version": 2
   },
   "file_extension": ".py",
   "mimetype": "text/x-python",
   "name": "python",
   "nbconvert_exporter": "python",
   "pygments_lexer": "ipython2",
   "version": "2.7.11"
  }
 },
 "nbformat": 4,
 "nbformat_minor": 0
}
