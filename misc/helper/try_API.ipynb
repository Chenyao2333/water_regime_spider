{
 "cells": [
  {
   "cell_type": "code",
   "execution_count": 1,
   "metadata": {
    "collapsed": false
   },
   "outputs": [
    {
     "name": "stdout",
     "output_type": "stream",
     "text": [
      "/svg/svgwait.jsp?gcxClass=1&site=11203200&gcxData=7&gcxKind=2&DateM=2016-01-19&DateL=2016-01-15\n"
     ]
    }
   ],
   "source": [
    "import httplib\n",
    "\n",
    "from urllib import urlencode\n",
    "\n",
    "headers = {\n",
    "    \"Accept\": \"*/*\",\n",
    "    \"REFERER\": \"http://xxfb.hydroinfo.gov.cn/svg/svghtml.html\",\n",
    "    \"Accept-Encoding\": \"gzip, deflate\",\n",
    "    \"User-Agent\": \"Mozilla/4.0 (compatible; MSIE 7.0; Windows NT 10.0; WOW64; Trident/7.0; .NET4.0C; .NET4.0E)\",\n",
    "    \"Host\": \"xxfb.hydroinfo.gov.cn\",\n",
    "    #\"Connection\": \"Keep-Alive\",\n",
    "    #\"Cookie\": \"JSESSIONID=3DF01E7575C0A20AC82A2483F9A0FE90.tomcat1\",\n",
    "}\n",
    "\n",
    "params = {\n",
    "    \"gcxClass\": \"1\",\n",
    "    \"gcxKind\": \"2\",\n",
    "    \"DateL\": \"2016-01-15\",\n",
    "    \"DateM\": \"2016-01-19\",\n",
    "    \"gcxData\": \"7\",\n",
    "    \"site\": \"11203200\",\n",
    "}\n",
    "\n",
    "host = \"xxfb.hydroinfo.gov.cn\"\n",
    "\n",
    "url = \"/svg/svgwait.jsp\" + \"?\" + urlencode(params)\n",
    "\n",
    "print url\n",
    "\n",
    "conn = httplib.HTTPConnection(host)\n",
    "#conn.request(\"GET\", url, headers = headers)\n",
    "#res = conn.getresponse()\n",
    "#data = res.read()\n",
    "\n",
    "#print res.status\n",
    "#print data\n",
    "\n",
    "conn.close()"
   ]
  },
  {
   "cell_type": "code",
   "execution_count": 2,
   "metadata": {
    "collapsed": false
   },
   "outputs": [
    {
     "data": {
      "text/plain": [
       "[u'\\u677e\\u8fbd',\n",
       " u'\\u9ed1\\u9f99\\u6c5f',\n",
       " u'\\u677e\\u82b1\\u6c5f',\n",
       " u'\\u54c8\\u5c14\\u6ee8',\n",
       " u'10701210']"
      ]
     },
     "execution_count": 2,
     "metadata": {},
     "output_type": "execute_result"
    }
   ],
   "source": [
    "import logging\n",
    "\n",
    "logging.basicConfig(level=logging.INFO, format='%(asctime)s %(message)s')\n",
    "\n",
    "sites_list = {\n",
    "    # river basins, province, river, site name, site id\n",
    "    u\"10701210\": [u\"松辽\", u\"黑龙江\",u\"松花江\", u\"哈尔滨\", u\"10701210\"],\n",
    "    u\"10901900\": [u\"松辽\", u\"吉林\", u\"第二松花江\", u\"扶余\", u\"10901900\"],\n",
    "}\n",
    "\n",
    "def load_sites_list():\n",
    "    with open('sites.txt') as f:\n",
    "        for line in f.readlines():\n",
    "            river_basins, province, river, site_name, site_id = line.split()\n",
    "            sites_list [site_id] = (river_basins, province, river, site_name)\n",
    "\n",
    "def get_site_info(site_id):\n",
    "    return sites_list.get(str(site_id), None)\n",
    "\n",
    "get_site_info(10701210)"
   ]
  },
  {
   "cell_type": "code",
   "execution_count": 3,
   "metadata": {
    "collapsed": false
   },
   "outputs": [],
   "source": [
    "import datetime\n",
    "import copy\n",
    "import codecs\n",
    "import xml.etree.ElementTree as ET\n",
    "\n",
    "\n",
    "HEADERS = {\n",
    "    \"Accept\": \"*/*\",\n",
    "    \"REFERER\": \"http://xxfb.hydroinfo.gov.cn/svg/svghtml.html\",\n",
    "    \"Accept-Encoding\": \"gzip, deflate\",\n",
    "    \"User-Agent\": \"Mozilla/4.0 (compatible; MSIE 7.0; Windows NT 10.0; WOW64; Trident/7.0; .NET4.0C; .NET4.0E)\",\n",
    "    \"Host\": \"xxfb.hydroinfo.gov.cn\",\n",
    "    #\"Connection\": \"Keep-Alive\",\n",
    "    #\"Cookie\": \"JSESSIONID=3DF01E7575C0A20AC82A2483F9A0FE90.tomcat1\",\n",
    "}\n",
    "\n",
    "PARAMS = {\n",
    "    \"gcxClass\": \"1\",\n",
    "    \"gcxKind\": \"2\",\n",
    "    \"DateL\": \"\",\n",
    "    \"DateM\": \"\",\n",
    "    \"gcxData\": \"7\",\n",
    "    \"site\": \"\",\n",
    "}\n",
    "\n",
    "HOST = \"xxfb.hydroinfo.gov.cn\"\n",
    "\n",
    "def build_headers():\n",
    "    global EHADERS\n",
    "    return copy.deepcopy(HEADERS)\n",
    "\n",
    "def build_params(site_id, start_date):\n",
    "    global PARAMS\n",
    "    params = copy.deepcopy(PARAMS)\n",
    "    params[\"DateL\"] = str(start_date)\n",
    "    params[\"DateM\"] = datetime.date.today()\n",
    "    params[\"site\"]  = str(site_id)\n",
    "    return params\n",
    "\n",
    "def request(method, host, url, params, headers):\n",
    "    url = \"/svg/svgwait.jsp\" + \"?\" + urlencode(params)  \n",
    "    \n",
    "    logging.info(\"request host={host}, url={url}, headers={headers}\".format(host=host, url=url, headers=headers))\n",
    "\n",
    "    url = \"/svg/svgwait.jsp\" + \"?\" + urlencode(params)    \n",
    "    conn = httplib.HTTPConnection(host)\n",
    "    conn.request(\"GET\", url, headers = headers)\n",
    "    res = conn.getresponse()\n",
    "    data = res.read()\n",
    "    conn.close()\n",
    "    \n",
    "    return (res.status, data)\n",
    "    \n",
    "def get_monitor_xml_data(site_id, start_date):\n",
    "    logging.info(\"get_monitor_xml_data site_id={site_id}, start_date={start_date}\".format(\n",
    "                 site_id=site_id,start_date=start_date))\n",
    "    \n",
    "    headers = build_headers()\n",
    "    params = build_params(site_id, start_date)\n",
    "    \n",
    "    status, data = request(\"GET\", HOST, \"/svg/svgwait.jsp\", params, headers)\n",
    "    \n",
    "    if status != 200:\n",
    "        raise Exception(\"request_error status=%s\" % status)\n",
    "    \n",
    "    return codecs.decode(\"\\n\".join(data.splitlines()[4:-1]).strip(), \"gb2312\")\n",
    "\n",
    "# tmp_xml = get_monitor_xml_data(10701210, datetime.date.today() - datetime.timedelta(days=5))"
   ]
  },
  {
   "cell_type": "code",
   "execution_count": 4,
   "metadata": {
    "collapsed": false
   },
   "outputs": [],
   "source": [
    "import codecs\n",
    "import re\n",
    "\n",
    "re_safety_level  = re.compile(ur\"保证水位(?P<safety_level>[\\d\\.]+)\")\n",
    "re_warning_level = re.compile(ur\"警戒水位(?P<warning_level>[\\d\\.]+)\")\n",
    "re_water_level_points = re.compile(ur\"水位.*points=\\\"(?P<points>[\\d\\.,\\s]+)\")\n",
    "re_water_flow_points  = re.compile(ur\"流量.*points=\\\"(?P<points>[\\d\\.,\\s]+)\")\n",
    "\n",
    "\n",
    "def parse_points(raw_str, start_date):\n",
    "    ret = []\n",
    "    start_date = datetime.datetime(*(start_date.timetuple()[:6])) # convert to datetime\n",
    "\n",
    "    for p in raw_str.split():\n",
    "        hours_delta, value = p.split(\",\")\n",
    "        time = start_date + datetime.timedelta(hours=float(hours_delta))\n",
    "        value = float(value)\n",
    "        ret.append((time, value))\n",
    "    return ret\n",
    "\n",
    "def get_monitor_data(site_id, start_date=datetime.date.today() - datetime.timedelta(days=5)):\n",
    "    logging.info(\"get_mnitor_data site_id={site_id} start_date={start_date}\".format(site_id=site_id, start_date=start_date))\n",
    "    xml = get_monitor_xml_data(site_id, start_date)\n",
    "    #xml = tmp_xml\n",
    "\n",
    "    safety_level = None\n",
    "    warning_level = None\n",
    "    water_level = []\n",
    "    water_flow = []\n",
    "    \n",
    "    sl_m = re_safety_level.search(xml)\n",
    "    if sl_m:\n",
    "        safety_level = float(sl_m.group(\"safety_level\"))\n",
    "    else:\n",
    "        logging.info(\"not_got_safety_level site_id=%s\" % site_id)\n",
    "    \n",
    "    wl_m = re_warning_level.search(xml)\n",
    "    if wl_m:\n",
    "        warning_level = float(wl_m.group(\"warning_level\"))\n",
    "    else:\n",
    "        logging.info(\"not_got_warning_level site_id=%s\" % site_id)\n",
    "        \n",
    "    wlp_m = re_water_level_points.search(xml)\n",
    "    if wlp_m:\n",
    "        water_level = parse_points(wlp_m.group(\"points\"), start_date)\n",
    "    else:\n",
    "        logging.info(\"not_got_water_level site_id=%s\" % site_id)\n",
    "        \n",
    "    wfp_m = re_water_flow_points.search(xml)\n",
    "    if wfp_m:\n",
    "        water_flow = parse_points(wfp_m.group(\"points\"), start_date)\n",
    "    else:\n",
    "        logging.info(\"not_got_water_flow site_id=%s\" % site_id)\n",
    "        \n",
    "    return (safety_level, warning_level, water_level, water_flow)\n",
    "    print safety_level\n",
    "    print warning_level\n",
    "    print water_level\n",
    "    print water_flow\n",
    "\n",
    "# get_monitor_data(\"10801400\", datetime.date(2010, 1, 20))"
   ]
  },
  {
   "cell_type": "code",
   "execution_count": 7,
   "metadata": {
    "collapsed": false
   },
   "outputs": [],
   "source": [
    "import sqlite3\n",
    "conn = sqlite3.connect(\"water_regime.db\")\n",
    "\n",
    "def insert_points(table, col, sid, points, cur):\n",
    "    sql = \"INSERT INTO %s(sid, date, %s) VALUES(?, ?, ?)\" % (table, col)\n",
    "    logging.info(\"execute_sql_insert_points sql=%s table=%s col=%s\" % (sql, table, col))\n",
    "    \n",
    "    points = map(lambda x: (sid,) + x, points)\n",
    "    cur.executemany(sql, points)\n",
    "\n",
    "def initial_import():\n",
    "    cur = conn.cursor()\n",
    "    cur.execute(\"SELECT id, site_id FROM site\")\n",
    "\n",
    "    for line in cur.fetchmany(1):\n",
    "        rid, site_id = line[0], line[1]\n",
    "        safety_level, warning_level, water_level, water_flow = get_monitor_data(site_id, datetime.date(2010, 1, 20))\n",
    "        \n",
    "        logging.info(\"import_initial_data site_id={site_id}\".format(site_id=site_id))\n",
    "          \n",
    "        if safety_level:\n",
    "            cur.execute(\"UPDATE site SET safety_level=? WHERE id=?\", (safety_level, rid))\n",
    "        if warning_level:\n",
    "            cur.execute(\"UPDATE site SET warning_level=? WHERE id=?\", (warning_level, rid))\n",
    "        if water_level:\n",
    "            insert_points(\"water_level\", \"level\", site_id, water_level, cur)\n",
    "        if water_flow:\n",
    "            insert_points(\"water_flow\", \"flow\", site_id, water_flow, cur)\n",
    "        \n",
    "        conn.commit()\n",
    "        \n",
    "initial_import()"
   ]
  },
  {
   "cell_type": "code",
   "execution_count": 6,
   "metadata": {
    "collapsed": true
   },
   "outputs": [],
   "source": [
    "conn.close()"
   ]
  },
  {
   "cell_type": "code",
   "execution_count": null,
   "metadata": {
    "collapsed": true
   },
   "outputs": [],
   "source": []
  }
 ],
 "metadata": {
  "kernelspec": {
   "display_name": "Python 2",
   "language": "python",
   "name": "python2"
  },
  "language_info": {
   "codemirror_mode": {
    "name": "ipython",
    "version": 2
   },
   "file_extension": ".py",
   "mimetype": "text/x-python",
   "name": "python",
   "nbconvert_exporter": "python",
   "pygments_lexer": "ipython2",
   "version": "2.7.11"
  }
 },
 "nbformat": 4,
 "nbformat_minor": 0
}
